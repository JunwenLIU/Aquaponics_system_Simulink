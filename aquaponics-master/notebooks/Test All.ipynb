{
 "cells": [
  {
   "cell_type": "code",
   "execution_count": 1,
   "metadata": {},
   "outputs": [],
   "source": [
    "import numpy as np\n",
    "import matplotlib.pyplot as plt\n",
    "from time import time\n",
    "\n",
    "from aquaponics import Aquaponics"
   ]
  },
  {
   "cell_type": "code",
   "execution_count": 3,
   "metadata": {},
   "outputs": [
    {
     "name": "stdout",
     "output_type": "stream",
     "text": [
      "Solved in 38.58 Seconds\n"
     ]
    }
   ],
   "source": [
    "a = Aquaponics(\n",
    "    'all',\n",
    "    T0=29.3, Cm_0=.6, Cb_0=.01,\n",
    "    ppb0=30, beds=[(0,45)]\n",
    ")\n",
    "m = a.get_model()\n",
    "\n",
    "tf = 45\n",
    "steps = tf * 12 + 1\n",
    "m.time = np.linspace(0,tf,steps)\n",
    "\n",
    "start = time()\n",
    "a.solve(glamdring=True, imode=6, disp=False)\n",
    "print('Solved in {:.2f} Seconds'.format(time() - start))"
   ]
  },
  {
   "cell_type": "code",
   "execution_count": null,
   "metadata": {},
   "outputs": [],
   "source": [
    "%matplotlib inline\n",
    "plt.figure(figsize=(12,15))\n",
    "\n",
    "ax = plt.subplot(511)\n",
    "plt.plot(m.time, a.FB, label='Biomass')\n",
    "plt.ylabel('Fish Biomass (kcal/tank)')\n",
    "plt.ylim(0, 2500)\n",
    "ax.legend(loc=2)\n",
    "ax2 = ax.twinx()\n",
    "plt.plot(m.time, a.FP, label='Population', color='r')\n",
    "plt.grid()\n",
    "plt.legend()\n",
    "plt.ylabel('Fish Population')\n",
    "plt.ylim(0, 15)\n",
    "ax2.legend(loc=1)\n",
    "\n",
    "plt.subplot(512, sharex=ax)\n",
    "plt.plot(m.time, a.w, label='Dry Weight')\n",
    "plt.plot(m.time, a.y, label='Yield')\n",
    "plt.ylabel('Plant Weight (g)')\n",
    "plt.grid()\n",
    "plt.legend()\n",
    "\n",
    "plt.subplot(513, sharex=ax)\n",
    "plt.plot(m.time, a.NO3_up, label='Total NO3 Uptake (plants)')\n",
    "plt.plot(m.time, a.NH3_exc, label='Total NH4 Added (fish)')\n",
    "plt.ylabel('Change (mg / l / day)')\n",
    "plt.grid()\n",
    "plt.legend()\n",
    "\n",
    "plt.subplot(514, sharex=ax)\n",
    "plt.plot(m.time, a.NH3, label='NH3')\n",
    "plt.plot(m.time, a.NO2, label='N02')\n",
    "plt.plot(m.time, a.NO3, label='NO3')\n",
    "plt.grid()\n",
    "plt.legend()\n",
    "plt.ylabel('Concentration (mg/l)')\n",
    "\n",
    "plt.subplot(515, sharex=ax)\n",
    "plt.plot(m.time, a.Cm, label='Cm')\n",
    "plt.plot(m.time, a.Cb, label='Cb')\n",
    "plt.grid()\n",
    "plt.legend()\n",
    "plt.ylabel('Concentration (mg/l)')\n",
    "\n",
    "plt.xlim(0, tf)\n",
    "plt.xlabel('Time (days)')"
   ]
  },
  {
   "cell_type": "code",
   "execution_count": null,
   "metadata": {},
   "outputs": [],
   "source": []
  }
 ],
 "metadata": {
  "kernelspec": {
   "display_name": "Python 3",
   "language": "python",
   "name": "python3"
  },
  "language_info": {
   "codemirror_mode": {
    "name": "ipython",
    "version": 3
   },
   "file_extension": ".py",
   "mimetype": "text/x-python",
   "name": "python",
   "nbconvert_exporter": "python",
   "pygments_lexer": "ipython3",
   "version": "3.9.3"
  }
 },
 "nbformat": 4,
 "nbformat_minor": 2
}
