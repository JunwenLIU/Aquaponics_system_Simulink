{
 "cells": [
  {
   "cell_type": "code",
   "execution_count": 1,
   "metadata": {},
   "outputs": [],
   "source": [
    "import sys\n",
    "import numpy as np\n",
    "import matplotlib.pyplot as plt\n",
    "from time import time\n",
    "import itertools\n",
    "\n",
    "from aquaponics import Aquaponics"
   ]
  },
  {
   "cell_type": "code",
   "execution_count": 2,
   "metadata": {},
   "outputs": [],
   "source": [
    "def run_gridpoint(T, I, disp=False):\n",
    "    a = Aquaponics('hydroplant', N0=0.1, T0=T, I0=I)\n",
    "    m = a.get_model()\n",
    "\n",
    "    tf = 45\n",
    "    steps = tf * 10 + 1\n",
    "    m.time = np.linspace(0,tf,steps)\n",
    "\n",
    "    a.solve(glamdring=True, imode=7, disp=disp)\n",
    "    \n",
    "    return m.options.APPSTATUS, a.w.value[-1], m, a"
   ]
  },
  {
   "cell_type": "code",
   "execution_count": 16,
   "metadata": {
    "scrolled": false
   },
   "outputs": [
    {
     "name": "stdout",
     "output_type": "stream",
     "text": [
      "Number of T's: 25\n",
      "Number of I's: 15\n",
      "Number of Experiments: 375\n",
      "----\n",
      "Running T=40.0, I=18.0 (375/375)\n",
      "Done\n"
     ]
    }
   ],
   "source": [
    "Tmin = 16\n",
    "Tmax = 40\n",
    "Tstep = 1\n",
    "Ts = np.arange(Tmin, Tmax + Tstep, Tstep)\n",
    "Imin = 4\n",
    "Imax = 18\n",
    "Istep = 1\n",
    "Is = np.arange(Imin, Imax + Istep, Istep)\n",
    "exps = list(itertools.product(Ts, Is))\n",
    "print('Number of T\\'s: {}'.format(len(Ts)))\n",
    "print('Number of I\\'s: {}'.format(len(Is)))\n",
    "print('Number of Experiments: {}'.format(len(exps)))\n",
    "print('----')\n",
    "\n",
    "rs = {}\n",
    "for i, exp in enumerate(exps):\n",
    "    T = exp[0]\n",
    "    I = exp[1]\n",
    "    sys.stdout.write('\\rRunning T={:.1f}, I={:.1f} ({}/{})'.format(T, I, i + 1, len(exps)))\n",
    "    \n",
    "    status, obj, m, a = run_gridpoint(T, I * 1e6, disp=False)\n",
    "    if status == 1:\n",
    "        sub = rs.get(T, {})\n",
    "        sub[I] = obj\n",
    "        rs[T] = sub\n",
    "    \n",
    "print('\\nDone')"
   ]
  },
  {
   "cell_type": "code",
   "execution_count": 17,
   "metadata": {},
   "outputs": [
    {
     "name": "stdout",
     "output_type": "stream",
     "text": [
      "[[28.81482 28.94227 29.02392 29.08359 29.13009 29.16774 29.19904 29.22557\n",
      "  29.24839 29.26827 29.28576 29.30129 29.31517 29.32766 29.33896]\n",
      " [28.86194 28.99495 29.07824 29.13851 29.18526 29.22303 29.2544  29.28095\n",
      "  29.30379 29.32368 29.34117 29.3567  29.37057 29.38306 29.39436]\n",
      " [28.90393 29.0433  29.12858 29.18957 29.23663 29.27455 29.30599 29.33259\n",
      "  29.35545 29.37534 29.39284 29.40837 29.42224 29.43473 29.44603]\n",
      " [28.94059 29.08701 29.1747  29.23658 29.28403 29.32213 29.35366 29.38032\n",
      "  29.40321 29.42312 29.44063 29.45616 29.47003 29.48252 29.49382]\n",
      " [28.97203 29.12592 29.2165  29.27949 29.32743 29.36577 29.39743 29.42415\n",
      "  29.44709 29.46703 29.48455 29.50009 29.51397 29.52646 29.53776]\n",
      " [28.9986  29.16004 29.25399 29.31837 29.36693 29.40558 29.43741 29.46423\n",
      "  29.48723 29.5072  29.52475 29.54031 29.55421 29.5667  29.57801]\n",
      " [29.02088 29.1895  29.28725 29.35335 29.40269 29.44175 29.4738  29.50075\n",
      "  29.52383 29.54386 29.56145 29.57703 29.59094 29.60345 29.61477]\n",
      " [29.03949 29.21461 29.31643 29.38456 29.4349  29.47448 29.50682 29.53395\n",
      "  29.55713 29.57724 29.59488 29.6105  29.62444 29.63697 29.6483 ]\n",
      " [29.05508 29.23576 29.3417  29.41219 29.46376 29.50399 29.53671 29.56407\n",
      "  29.5874  29.60761 29.62532 29.64099 29.65497 29.66753 29.67888]\n",
      " [29.06823 29.25345 29.36334 29.4364  29.48944 29.5305  29.56369 29.59135\n",
      "  29.61487 29.63521 29.65301 29.66875 29.68278 29.69538 29.70676]\n",
      " [29.07946 29.26822 29.38166 29.45739 29.51211 29.55417 29.58797 29.616\n",
      "  29.63978 29.66028 29.67821 29.69403 29.70813 29.72078 29.7322 ]\n",
      " [29.08916 29.28057 29.39705 29.47538 29.53193 29.57516 29.6097  29.63821\n",
      "  29.6623  29.68303 29.7011  29.71705 29.73123 29.74395 29.75542]\n",
      " [29.09764 29.29098 29.40993 29.49064 29.54907 29.59361 29.62903 29.65812\n",
      "  29.68261 29.70361 29.72189 29.73798 29.75227 29.76508 29.77662]\n",
      " [29.10516 29.29983 29.42071 29.50349 29.56373 29.60967 29.64608 29.67587\n",
      "  29.70084 29.72218 29.74071 29.75698 29.77142 29.78434 29.79597]\n",
      " [29.11189 29.30746 29.42978 29.51428 29.57616 29.62348 29.66096 29.69154\n",
      "  29.71708 29.73884 29.75768 29.77419 29.7888  29.80185 29.8136 ]\n",
      " [29.11795 29.31411 29.43748 29.52333 29.58664 29.63526 29.67382 29.70523\n",
      "  29.73143 29.75368 29.77289 29.78968 29.80451 29.81774 29.82962]\n",
      " [29.12346 29.31998 29.44409 29.53098 29.59545 29.64522 29.6848  29.71708\n",
      "  29.74397 29.76677 29.7864  29.80353 29.81863 29.83208 29.84413]\n",
      " [29.12848 29.32521 29.44983 29.53748 29.60288 29.65362 29.69412 29.72722\n",
      "  29.75481 29.77819 29.7983  29.81581 29.83122 29.84492 29.85718]\n",
      " [29.13307 29.32991 29.45488 29.54309 29.60919 29.6607  29.70199 29.73583\n",
      "  29.76408 29.78805 29.80865 29.82657 29.84233 29.85631 29.86882]\n",
      " [29.13728 29.33417 29.45937 29.54797 29.61459 29.66671 29.70864 29.74312\n",
      "  29.77197 29.79647 29.81756 29.83591 29.85203 29.86632 29.87909]\n",
      " [29.14115 29.33804 29.46339 29.55226 29.61927 29.67184 29.71428 29.74928\n",
      "  29.77864 29.80363 29.82516 29.84391 29.8604  29.87501 29.88806]\n",
      " [29.1447  29.34157 29.46703 29.55609 29.62337 29.67628 29.71911 29.75451\n",
      "  29.78429 29.8097  29.83162 29.85074 29.86756 29.88248 29.89581]\n",
      " [29.14797 29.34481 29.47033 29.55953 29.62701 29.68017 29.72328 29.759\n",
      "  29.78911 29.81484 29.8371  29.85653 29.87365 29.88885 29.90243]\n",
      " [29.15098 29.34778 29.47334 29.56264 29.63026 29.6836  29.72692 29.76288\n",
      "  29.79324 29.81924 29.84175 29.86145 29.87882 29.89426 29.90808]\n",
      " [29.15375 29.35051 29.4761  29.56547 29.63319 29.68667 29.73014 29.76628\n",
      "  29.79683 29.82303 29.84575 29.86565 29.88322 29.89886 29.91287]]\n"
     ]
    }
   ],
   "source": [
    "grid = np.zeros((len(Ts), len(Is)))\n",
    "for Ti, T in enumerate(Ts):\n",
    "    for Ii, I in enumerate(Is):\n",
    "        grid[Ti, Ii] = rs.get(T, {}).get(I, 0)   \n",
    "\n",
    "print(grid)"
   ]
  },
  {
   "cell_type": "code",
   "execution_count": 19,
   "metadata": {},
   "outputs": [
    {
     "data": {
      "image/png": "[encoded data removed]",
      "text/plain": [
       "<Figure size 432x432 with 2 Axes>"
      ]
     },
     "metadata": {},
     "output_type": "display_data"
    }
   ],
   "source": [
    "plt.figure(figsize=(6,6))\n",
    "im = plt.imshow(grid.T, extent=[Tmin, Tmax, Imin, Imax], origin='lower')\n",
    "ax = plt.gca()\n",
    "ax.set_aspect('auto')\n",
    "cb = plt.colorbar(im, ax=ax)\n",
    "cb.set_label('Lettuce Dry Weight (g)')\n",
    "plt.ylabel('Solar Radiation (MJ / m^2)')\n",
    "plt.xlabel('Temperature (deg C)')\n",
    "plt.tight_layout(h_pad=1)"
   ]
  },
  {
   "cell_type": "code",
   "execution_count": 24,
   "metadata": {},
   "outputs": [
    {
     "name": "stdout",
     "output_type": "stream",
     "text": [
      "1.0980500000000006\n",
      "0.038107126818768974\n"
     ]
    }
   ],
   "source": [
    "print((grid.max() - grid.min()) )\n",
    "print((grid.max() - grid.min()) / grid.min())"
   ]
  },
  {
   "cell_type": "code",
   "execution_count": null,
   "metadata": {},
   "outputs": [],
   "source": []
  }
 ],
 "metadata": {
  "kernelspec": {
   "display_name": "Python 3",
   "language": "python",
   "name": "python3"
  },
  "language_info": {
   "codemirror_mode": {
    "name": "ipython",
    "version": 3
   },
   "file_extension": ".py",
   "mimetype": "text/x-python",
   "name": "python",
   "nbconvert_exporter": "python",
   "pygments_lexer": "ipython3",
   "version": "3.5.2"
  }
 },
 "nbformat": 4,
 "nbformat_minor": 2
}
