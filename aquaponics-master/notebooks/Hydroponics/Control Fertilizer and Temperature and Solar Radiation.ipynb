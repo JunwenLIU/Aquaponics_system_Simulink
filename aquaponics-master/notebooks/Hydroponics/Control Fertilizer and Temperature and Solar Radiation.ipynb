{
 "cells": [
  {
   "cell_type": "code",
   "execution_count": 1,
   "metadata": {},
   "outputs": [],
   "source": [
    "import numpy as np\n",
    "import matplotlib.pyplot as plt\n",
    "from time import time\n",
    "\n",
    "from aquaponics import Aquaponics\n",
    "imode = 6"
   ]
  },
  {
   "cell_type": "code",
   "execution_count": 3,
   "metadata": {
    "scrolled": false
   },
   "outputs": [
    {
     "name": "stdout",
     "output_type": "stream",
     "text": [
      "apmonitor 192.168.17.25_687682622 <br><pre> ----------------------------------------------------------------\n",
      " APMonitor, Version 0.8.2\n",
      " APMonitor Optimization Suite\n",
      " ----------------------------------------------------------------\n",
      " \n",
      " \n",
      " --------- APM Model Size ------------\n",
      " Each time step contains\n",
      "   Objects      :            0\n",
      "   Constants    :            0\n",
      "   Variables    :           24\n",
      "   Intermediates:            8\n",
      "   Connections  :            0\n",
      "   Equations    :           16\n",
      "   Residuals    :            8\n",
      " \n",
      " Number of state variables:          13950\n",
      " Number of total equations: -        12600\n",
      " Number of slack variables: -            0\n",
      " ---------------------------------------\n",
      " Degrees of freedom       :           1350\n",
      " \n",
      " ----------------------------------------------\n",
      " Dynamic Control with APOPT Solver\n",
      " ----------------------------------------------\n",
      " Unknown option: linear_solver\n",
      " \n",
      " Iter    Objective  Convergence\n",
      "    0  1.16570E+10  1.00000E+00\n",
      "    1  6.43090E+47  9.59531E-01\n",
      "    2  1.27182+237  8.16927E+00\n",
      "    3     Infinity  1.11812E+00\n",
      "    4  7.51962+102  2.34522E+00\n",
      "    5  4.55446E+60  2.33940E+00\n",
      "    6     Infinity  2.13532E+00\n",
      "    7  2.11248E+02  9.46614E-01\n",
      "    8     Infinity  2.16737E+00\n",
      "    9  1.53438E+01  2.50776E+03\n",
      " \n",
      " Iter    Objective  Convergence\n",
      "   10     Infinity  4.59743E+03\n",
      "   11  1.48272+285  4.59743E+03\n",
      "Could not retrieve results.json from server\n",
      "Could not retrieve options.json from server\n",
      "Could not retrieve results.csv from server\n",
      "p1 not found in results file\n",
      "p2 not found in results file\n",
      "p3 not found in results file\n",
      "p4 not found in results file\n",
      "v1 not found in results file\n",
      "v2 not found in results file\n",
      "v3 not found in results file\n",
      "v4 not found in results file\n",
      "v5 not found in results file\n",
      "v6 not found in results file\n",
      "v7 not found in results file\n"
     ]
    },
    {
     "ename": "TypeError",
     "evalue": "list indices must be integers or slices, not str",
     "output_type": "error",
     "traceback": [
      "\u001b[1;31m---------------------------------------------------------------------------\u001b[0m",
      "\u001b[1;31mTypeError\u001b[0m                                 Traceback (most recent call last)",
      "\u001b[1;32m<ipython-input-3-5a4892111ebc>\u001b[0m in \u001b[0;36m<module>\u001b[1;34m()\u001b[0m\n\u001b[0;32m     17\u001b[0m \u001b[0mm\u001b[0m\u001b[1;33m.\u001b[0m\u001b[0moptions\u001b[0m\u001b[1;33m.\u001b[0m\u001b[0mMAX_ITER\u001b[0m \u001b[1;33m=\u001b[0m \u001b[1;36m500\u001b[0m\u001b[1;33m\u001b[0m\u001b[0m\n\u001b[0;32m     18\u001b[0m \u001b[1;33m\u001b[0m\u001b[0m\n\u001b[1;32m---> 19\u001b[1;33m \u001b[0ma\u001b[0m\u001b[1;33m.\u001b[0m\u001b[0msolve\u001b[0m\u001b[1;33m(\u001b[0m\u001b[0mglamdring\u001b[0m\u001b[1;33m=\u001b[0m\u001b[1;32mTrue\u001b[0m\u001b[1;33m,\u001b[0m \u001b[0mimode\u001b[0m\u001b[1;33m=\u001b[0m\u001b[0mimode\u001b[0m\u001b[1;33m,\u001b[0m \u001b[0mdisp\u001b[0m\u001b[1;33m=\u001b[0m\u001b[1;32mTrue\u001b[0m\u001b[1;33m,\u001b[0m \u001b[0msolver\u001b[0m\u001b[1;33m=\u001b[0m\u001b[1;36m1\u001b[0m\u001b[1;33m)\u001b[0m\u001b[1;33m\u001b[0m\u001b[0m\n\u001b[0m",
      "\u001b[1;32mc:\\users\\natha\\documents\\aquaponics\\aquaponics\\Aquaponics.py\u001b[0m in \u001b[0;36msolve\u001b[1;34m(self, glamdring, imode, solver, **kwargs)\u001b[0m\n\u001b[0;32m    215\u001b[0m                     \u001b[0mm\u001b[0m\u001b[1;33m.\u001b[0m\u001b[0moptions\u001b[0m\u001b[1;33m.\u001b[0m\u001b[0mCSV_READ\u001b[0m \u001b[1;33m=\u001b[0m \u001b[1;36m1\u001b[0m\u001b[1;33m\u001b[0m\u001b[0m\n\u001b[0;32m    216\u001b[0m \u001b[1;33m\u001b[0m\u001b[0m\n\u001b[1;32m--> 217\u001b[1;33m             \u001b[0mm\u001b[0m\u001b[1;33m.\u001b[0m\u001b[0msolve\u001b[0m\u001b[1;33m(\u001b[0m\u001b[1;33m**\u001b[0m\u001b[0mkwargs\u001b[0m\u001b[1;33m)\u001b[0m\u001b[1;33m\u001b[0m\u001b[0m\n\u001b[0m",
      "\u001b[1;32m~\\Envs\\aquaponics\\lib\\site-packages\\gekko-0.0.4b2-py3.5.egg\\gekko\\gekko.py\u001b[0m in \u001b[0;36msolve\u001b[1;34m(self, remote, disp, debug)\u001b[0m\n\u001b[0;32m    634\u001b[0m         \u001b[1;32mif\u001b[0m \u001b[0mtiming\u001b[0m \u001b[1;33m==\u001b[0m \u001b[1;32mTrue\u001b[0m\u001b[1;33m:\u001b[0m\u001b[1;33m\u001b[0m\u001b[0m\n\u001b[0;32m    635\u001b[0m             \u001b[0mt\u001b[0m \u001b[1;33m=\u001b[0m \u001b[0mtime\u001b[0m\u001b[1;33m.\u001b[0m\u001b[0mtime\u001b[0m\u001b[1;33m(\u001b[0m\u001b[1;33m)\u001b[0m\u001b[1;33m\u001b[0m\u001b[0m\n\u001b[1;32m--> 636\u001b[1;33m         \u001b[0mself\u001b[0m\u001b[1;33m.\u001b[0m\u001b[0mload_JSON\u001b[0m\u001b[1;33m(\u001b[0m\u001b[1;33m)\u001b[0m\u001b[1;33m\u001b[0m\u001b[0m\n\u001b[0m\u001b[0;32m    637\u001b[0m         \u001b[1;32mif\u001b[0m \u001b[0mtiming\u001b[0m \u001b[1;33m==\u001b[0m \u001b[1;32mTrue\u001b[0m\u001b[1;33m:\u001b[0m\u001b[1;33m\u001b[0m\u001b[0m\n\u001b[0;32m    638\u001b[0m             \u001b[0mprint\u001b[0m\u001b[1;33m(\u001b[0m\u001b[1;34m'load JSON'\u001b[0m\u001b[1;33m,\u001b[0m \u001b[0mtime\u001b[0m\u001b[1;33m.\u001b[0m\u001b[0mtime\u001b[0m\u001b[1;33m(\u001b[0m\u001b[1;33m)\u001b[0m \u001b[1;33m-\u001b[0m \u001b[0mt\u001b[0m\u001b[1;33m)\u001b[0m\u001b[1;33m\u001b[0m\u001b[0m\n",
      "\u001b[1;32m~\\Envs\\aquaponics\\lib\\site-packages\\gekko-0.0.4b2-py3.5.egg\\gekko\\gk_post_solve.py\u001b[0m in \u001b[0;36mload_JSON\u001b[1;34m(self)\u001b[0m\n\u001b[0;32m     15\u001b[0m     \u001b[1;31m#global (APM) options\u001b[0m\u001b[1;33m\u001b[0m\u001b[1;33m\u001b[0m\u001b[0m\n\u001b[0;32m     16\u001b[0m     \u001b[1;32mfor\u001b[0m \u001b[0mo\u001b[0m \u001b[1;32min\u001b[0m \u001b[0mself\u001b[0m\u001b[1;33m.\u001b[0m\u001b[0moptions\u001b[0m\u001b[1;33m.\u001b[0m\u001b[0m_output_option_list\u001b[0m\u001b[1;33m+\u001b[0m\u001b[0mself\u001b[0m\u001b[1;33m.\u001b[0m\u001b[0moptions\u001b[0m\u001b[1;33m.\u001b[0m\u001b[0m_inout_option_list\u001b[0m\u001b[1;33m:\u001b[0m\u001b[1;33m\u001b[0m\u001b[0m\n\u001b[1;32m---> 17\u001b[1;33m         \u001b[0mself\u001b[0m\u001b[1;33m.\u001b[0m\u001b[0moptions\u001b[0m\u001b[1;33m.\u001b[0m\u001b[0m__dict__\u001b[0m\u001b[1;33m[\u001b[0m\u001b[0mo\u001b[0m\u001b[1;33m]\u001b[0m \u001b[1;33m=\u001b[0m \u001b[0mdata\u001b[0m\u001b[1;33m[\u001b[0m\u001b[1;34m'APM'\u001b[0m\u001b[1;33m]\u001b[0m\u001b[1;33m[\u001b[0m\u001b[0mo\u001b[0m\u001b[1;33m]\u001b[0m\u001b[1;33m\u001b[0m\u001b[0m\n\u001b[0m\u001b[0;32m     18\u001b[0m     \u001b[1;31m#Variable options (FV/MV/SV/CV)\u001b[0m\u001b[1;33m\u001b[0m\u001b[1;33m\u001b[0m\u001b[0m\n\u001b[0;32m     19\u001b[0m     \u001b[1;32mfor\u001b[0m \u001b[0mvp\u001b[0m \u001b[1;32min\u001b[0m \u001b[0mself\u001b[0m\u001b[1;33m.\u001b[0m\u001b[0mparameters\u001b[0m\u001b[1;33m:\u001b[0m\u001b[1;33m\u001b[0m\u001b[0m\n",
      "\u001b[1;31mTypeError\u001b[0m: list indices must be integers or slices, not str"
     ]
    }
   ],
   "source": [
    "a = Aquaponics('hydroplant', 'hydronitrogen', N0=0, kswitch=100)\n",
    "m = a.get_model()\n",
    "\n",
    "tf = 45\n",
    "steps = tf * 10 + 1\n",
    "m.time = np.linspace(0,tf,steps)\n",
    "\n",
    "a.dNadd.STATUS = 1\n",
    "a.T.STATUS = 1\n",
    "a.I.STATUS = 1\n",
    "\n",
    "p = np.zeros(steps)\n",
    "p[-1] = 1\n",
    "final = m.Param(value=p)\n",
    "\n",
    "m.Obj(-a.w * final + a.Nadd * final)\n",
    "m.options.MAX_ITER = 500\n",
    "\n",
    "a.solve(glamdring=True, imode=imode, disp=True, solver=1)"
   ]
  },
  {
   "cell_type": "code",
   "execution_count": null,
   "metadata": {},
   "outputs": [],
   "source": [
    "%matplotlib inline\n",
    "plt.figure(figsize=(12,9))\n",
    "ax = plt.subplot(311)\n",
    "plt.plot(m.time, a.w, label='Dry Weight')\n",
    "plt.grid()\n",
    "plt.legend()\n",
    "\n",
    "plt.subplot(312, sharex=ax)\n",
    "plt.plot(m.time, a.dNup, label='dNup')\n",
    "plt.plot(m.time, a.dNadd, label='dNadd')\n",
    "plt.grid()\n",
    "plt.legend()\n",
    "\n",
    "plt.subplot(313, sharex=ax)\n",
    "plt.plot(m.time, a.cN, label='cN')\n",
    "plt.grid()\n",
    "plt.legend()\n",
    "\n",
    "\n",
    "plt.xlim(0, tf)\n",
    "plt.xlabel('Time (days)')"
   ]
  },
  {
   "cell_type": "code",
   "execution_count": 4,
   "metadata": {},
   "outputs": [],
   "source": [
    "dNadd = a.dNadd"
   ]
  },
  {
   "cell_type": "code",
   "execution_count": 5,
   "metadata": {},
   "outputs": [],
   "source": [
    "a = Aquaponics('hydroplant', 'hydronitrogen', N0=0, kswitch=10)\n",
    "m = a.get_model()\n",
    "\n",
    "m.time = np.linspace(0,tf,steps)\n",
    "a.dNadd.value = list(dNadd.value)\n",
    "\n",
    "a.solve(glamdring=True, imode=7, disp=False, solver=3)"
   ]
  },
  {
   "cell_type": "code",
   "execution_count": 6,
   "metadata": {},
   "outputs": [
    {
     "data": {
      "text/plain": [
       "Text(0.5,0,'Time (days)')"
      ]
     },
     "execution_count": 6,
     "metadata": {},
     "output_type": "execute_result"
    },
    {
     "data": {
      "image/png": "[encoded data removed]",
      "text/plain": [
       "<Figure size 864x648 with 3 Axes>"
      ]
     },
     "metadata": {},
     "output_type": "display_data"
    }
   ],
   "source": [
    "%matplotlib inline\n",
    "plt.figure(figsize=(12,9))\n",
    "ax = plt.subplot(311)\n",
    "plt.plot(m.time, a.w, label='Dry Weight')\n",
    "plt.grid()\n",
    "plt.legend()\n",
    "\n",
    "plt.subplot(312, sharex=ax)\n",
    "plt.plot(m.time, a.dNup, label='dNup')\n",
    "plt.plot(m.time, a.dNadd, label='dNadd')\n",
    "plt.grid()\n",
    "plt.legend()\n",
    "\n",
    "plt.subplot(313, sharex=ax)\n",
    "plt.plot(m.time, a.cN, label='cN')\n",
    "plt.grid()\n",
    "plt.legend()\n",
    "\n",
    "\n",
    "plt.xlim(0, tf)\n",
    "plt.xlabel('Time (days)')"
   ]
  },
  {
   "cell_type": "code",
   "execution_count": null,
   "metadata": {},
   "outputs": [],
   "source": [
    "print(dNadd.value)"
   ]
  },
  {
   "cell_type": "code",
   "execution_count": null,
   "metadata": {},
   "outputs": [],
   "source": []
  },
  {
   "cell_type": "code",
   "execution_count": null,
   "metadata": {},
   "outputs": [],
   "source": []
  }
 ],
 "metadata": {
  "kernelspec": {
   "display_name": "Python 3",
   "language": "python",
   "name": "python3"
  },
  "language_info": {
   "codemirror_mode": {
    "name": "ipython",
    "version": 3
   },
   "file_extension": ".py",
   "mimetype": "text/x-python",
   "name": "python",
   "nbconvert_exporter": "python",
   "pygments_lexer": "ipython3",
   "version": "3.5.2"
  }
 },
 "nbformat": 4,
 "nbformat_minor": 2
}
