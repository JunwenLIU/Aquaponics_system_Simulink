{
 "cells": [
  {
   "cell_type": "code",
   "execution_count": 1,
   "metadata": {},
   "outputs": [],
   "source": [
    "import numpy as np\n",
    "import matplotlib.pyplot as plt\n",
    "\n",
    "k = 0.9"
   ]
  },
  {
   "cell_type": "code",
   "execution_count": 2,
   "metadata": {},
   "outputs": [],
   "source": [
    "def _LAI_1(w):\n",
    "    LA = -0.0025 * w ** 2 + 0.072 * w\n",
    "    A = 0.02 * w\n",
    "    if w > 2.4:\n",
    "        A = 0.02 * 2.4\n",
    "    return LA / A\n",
    "\n",
    "def _LAI_2(w):\n",
    "    if w <= 2.4:\n",
    "        return -.125 * w + 3.6\n",
    "    else:\n",
    "        return -0.0516 * w ** 2 + 1.49 * w\n",
    "    \n",
    "def _LAI_3(w):\n",
    "    LAI = -0.0516 * w ** 2 + 1.49 * w\n",
    "    if w < 2.4:\n",
    "        return 3.3\n",
    "    elif w > 13.76:\n",
    "        return 10.733\n",
    "    else:\n",
    "        return LAI\n",
    "    \n",
    "def _LAI_4(w):\n",
    "    LAI = _LAI_2(w)\n",
    "    if LAI < 0:\n",
    "        return 0\n",
    "    return LAI\n",
    "    \n",
    "def _expLAI(lai):\n",
    "    return np.exp(-k * lai)\n",
    "\n",
    "def _switch(left, right, on, loc, k):\n",
    "    sig = 1 / (1 + np.exp(-k * (on - loc)))\n",
    "    return (1 - sig) * left + sig * right"
   ]
  },
  {
   "cell_type": "code",
   "execution_count": 3,
   "metadata": {},
   "outputs": [
    {
     "name": "stderr",
     "output_type": "stream",
     "text": [
      "/home/nwoodbury/.virtualenvs/aquaponics/lib/python3.5/site-packages/ipykernel_launcher.py:6: RuntimeWarning: invalid value encountered in double_scalars\n",
      "  \n"
     ]
    },
    {
     "data": {
      "image/png": "[encoded data removed]",
      "text/plain": [
       "<Figure size 432x288 with 1 Axes>"
      ]
     },
     "metadata": {},
     "output_type": "display_data"
    }
   ],
   "source": [
    "ws = np.arange(0, 30, 0.1)\n",
    "lai1 = [_LAI_1(w) for w in ws]\n",
    "lai2 = [_LAI_2(w) for w in ws]\n",
    "lai3 = [_LAI_3(w) for w in ws]\n",
    "lai4 = [_LAI_4(w) for w in ws]\n",
    "\n",
    "plt.figure()\n",
    "# plt.plot(ws, lai1, label='Index 1')\n",
    "plt.plot(ws, lai2, label='Actual LAI')\n",
    "# plt.plot(ws, lai3, label='Index 3')\n",
    "plt.plot(ws, lai4, label='Approximate LAI')\n",
    "plt.xlim(0, 30)\n",
    "plt.legend()\n",
    "plt.grid()"
   ]
  },
  {
   "cell_type": "code",
   "execution_count": 7,
   "metadata": {},
   "outputs": [
    {
     "name": "stdout",
     "output_type": "stream",
     "text": [
      "Max at w = 13.760, value = 10.733\n",
      "Lower at w = 3.300\n"
     ]
    }
   ],
   "source": [
    "mx = 1.42 / (2 * 0.0516)\n",
    "mxval = _LAI_2(mx)\n",
    "print('Max at w = {:.3f}, value = {:.3f}'.format(mx, mxval))\n",
    "lower = -.125 * 2.4 + 3.6\n",
    "print('Lower at w = {:.3f}'.format(lower))"
   ]
  },
  {
   "cell_type": "code",
   "execution_count": 4,
   "metadata": {},
   "outputs": [
    {
     "data": {
      "image/png": "[encoded data removed]",
      "text/plain": [
       "<Figure size 432x288 with 1 Axes>"
      ]
     },
     "metadata": {},
     "output_type": "display_data"
    }
   ],
   "source": [
    "exp2 = [_expLAI(lai) for lai in lai2]\n",
    "exp3 = [_expLAI(lai) for lai in lai3]\n",
    "exp4 = [_expLAI(lai) for lai in lai4]\n",
    "exp5 = [_switch(0, 1, w, 27.5, 2) for w in ws]\n",
    "\n",
    "plt.figure()\n",
    "plt.plot(ws, exp2, label='Actual LAI')\n",
    "# plt.plot(ws, exp3, label='Index 3')\n",
    "plt.plot(ws, exp4, label='Approximate LAI')\n",
    "plt.plot(ws, exp5, label='Approximate exp(-kLAI)')\n",
    "plt.xlim(0, 30)\n",
    "plt.legend()\n",
    "plt.grid()"
   ]
  },
  {
   "cell_type": "code",
   "execution_count": 12,
   "metadata": {},
   "outputs": [
    {
     "name": "stdout",
     "output_type": "stream",
     "text": [
      "6.248390214985222e-05\n"
     ]
    }
   ],
   "source": [
    "print(min(exp4))"
   ]
  },
  {
   "cell_type": "code",
   "execution_count": null,
   "metadata": {},
   "outputs": [],
   "source": []
  }
 ],
 "metadata": {
  "kernelspec": {
   "display_name": "Python 3",
   "language": "python",
   "name": "python3"
  },
  "language_info": {
   "codemirror_mode": {
    "name": "ipython",
    "version": 3
   },
   "file_extension": ".py",
   "mimetype": "text/x-python",
   "name": "python",
   "nbconvert_exporter": "python",
   "pygments_lexer": "ipython3",
   "version": "3.5.2"
  }
 },
 "nbformat": 4,
 "nbformat_minor": 2
}
