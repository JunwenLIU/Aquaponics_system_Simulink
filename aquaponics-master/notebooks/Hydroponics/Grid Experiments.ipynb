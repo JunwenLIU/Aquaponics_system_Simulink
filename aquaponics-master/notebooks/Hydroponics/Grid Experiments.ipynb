{
 "cells": [
  {
   "cell_type": "code",
   "execution_count": 1,
   "metadata": {},
   "outputs": [],
   "source": [
    "import sys\n",
    "import numpy as np\n",
    "import matplotlib.pyplot as plt\n",
    "from time import time\n",
    "import itertools\n",
    "\n",
    "from aquaponics import Aquaponics"
   ]
  },
  {
   "cell_type": "code",
   "execution_count": 4,
   "metadata": {},
   "outputs": [],
   "source": [
    "def run_gridpoint(T, I, disp=False):\n",
    "    a = Aquaponics('hydroplant', 'hydronitrogen', N0=0, T0=T, I0=I)\n",
    "    m = a.get_model()\n",
    "\n",
    "    tf = 45\n",
    "    steps = tf * 10 + 1\n",
    "    m.time = np.linspace(0,tf,steps)\n",
    "\n",
    "    a.dNadd.STATUS = 1\n",
    "    a.dNadd.DCOST = 1\n",
    "    a.dNadd.UPPER = 1\n",
    "\n",
    "    m.Obj(-a.w)\n",
    "    m.options.MAX_ITER = 1000\n",
    "    m.options.OTOL = 1\n",
    "    m.options.RTOL = 1\n",
    "    m.options.CV_TYPE = 2\n",
    "    m.options.EV_TYPE = 2\n",
    "\n",
    "    a.solve(glamdring=True, imode=6, disp=disp)\n",
    "    \n",
    "    return m.options.APPSTATUS, -m.options.OBJFCNVAL, m, a"
   ]
  },
  {
   "cell_type": "code",
   "execution_count": 5,
   "metadata": {
    "scrolled": false
   },
   "outputs": [
    {
     "name": "stdout",
     "output_type": "stream",
     "text": [
      "Number of T's: 13\n",
      "Number of I's: 5\n",
      "Number of Experiments: 65\n",
      "----\n",
      "Running T=30.0, I=8.0 (65/65)\n",
      "Done\n"
     ]
    }
   ],
   "source": [
    "Tmin = 18\n",
    "Tmax = 30\n",
    "Tstep = 1\n",
    "Ts = np.arange(Tmin, Tmax + Tstep, Tstep)\n",
    "Imin = 4\n",
    "Imax = 8\n",
    "Istep = 1\n",
    "Is = np.arange(Imin, Imax + Istep, Istep)\n",
    "exps = list(itertools.product(Ts, Is))\n",
    "print('Number of T\\'s: {}'.format(len(Ts)))\n",
    "print('Number of I\\'s: {}'.format(len(Is)))\n",
    "print('Number of Experiments: {}'.format(len(exps)))\n",
    "print('----')\n",
    "\n",
    "rs = {}\n",
    "for i, exp in enumerate(exps):\n",
    "    T = exp[0]\n",
    "    I = exp[1]\n",
    "    sys.stdout.write('\\rRunning T={:.1f}, I={:.1f} ({}/{})'.format(T, I, i + 1, len(exps)))\n",
    "    \n",
    "    status, obj, m, a = run_gridpoint(T, I * 1e6, disp=False)\n",
    "    if status == 1:\n",
    "        sub = rs.get(T, {})\n",
    "        sub[I] = obj\n",
    "        rs[T] = sub\n",
    "    \n",
    "print('\\nDone')"
   ]
  },
  {
   "cell_type": "code",
   "execution_count": 6,
   "metadata": {},
   "outputs": [
    {
     "name": "stdout",
     "output_type": "stream",
     "text": [
      "[[0. 0. 0. 0. 0.]\n",
      " [0. 0. 0. 0. 0.]\n",
      " [0. 0. 0. 0. 0.]\n",
      " [0. 0. 0. 0. 0.]\n",
      " [0. 0. 0. 0. 0.]\n",
      " [0. 0. 0. 0. 0.]\n",
      " [0. 0. 0. 0. 0.]\n",
      " [0. 0. 0. 0. 0.]\n",
      " [0. 0. 0. 0. 0.]\n",
      " [0. 0. 0. 0. 0.]\n",
      " [0. 0. 0. 0. 0.]\n",
      " [0. 0. 0. 0. 0.]\n",
      " [0. 0. 0. 0. 0.]]\n"
     ]
    }
   ],
   "source": [
    "grid = np.zeros((len(Ts), len(Is)))\n",
    "for Ti, T in enumerate(Ts):\n",
    "    for Ii, I in enumerate(Is):\n",
    "        grid[Ti, Ii] = rs.get(T, {}).get(I, 0)   \n",
    "\n",
    "print(grid)"
   ]
  },
  {
   "cell_type": "code",
   "execution_count": 7,
   "metadata": {},
   "outputs": [
    {
     "data": {
      "image/png": "[encoded data removed]",
      "text/plain": [
       "<Figure size 432x216 with 2 Axes>"
      ]
     },
     "metadata": {},
     "output_type": "display_data"
    }
   ],
   "source": [
    "plt.figure(figsize=(6,3))\n",
    "im = plt.imshow(grid.T, extent=[Tmin, Tmax, Imin, Imax], origin='lower')\n",
    "ax = plt.gca()\n",
    "ax.set_aspect('auto')\n",
    "cb = plt.colorbar(im, ax=ax)\n",
    "cb.set_label('Objective Value')\n",
    "plt.ylabel('Solar Radiation (MJ / m^2)')\n",
    "plt.xlabel('Temperature (deg C)')\n",
    "plt.tight_layout(h_pad=1)"
   ]
  },
  {
   "cell_type": "code",
   "execution_count": null,
   "metadata": {},
   "outputs": [],
   "source": []
  },
  {
   "cell_type": "code",
   "execution_count": null,
   "metadata": {},
   "outputs": [],
   "source": []
  }
 ],
 "metadata": {
  "kernelspec": {
   "display_name": "Python 3",
   "language": "python",
   "name": "python3"
  },
  "language_info": {
   "codemirror_mode": {
    "name": "ipython",
    "version": 3
   },
   "file_extension": ".py",
   "mimetype": "text/x-python",
   "name": "python",
   "nbconvert_exporter": "python",
   "pygments_lexer": "ipython3",
   "version": "3.5.2"
  }
 },
 "nbformat": 4,
 "nbformat_minor": 2
}
