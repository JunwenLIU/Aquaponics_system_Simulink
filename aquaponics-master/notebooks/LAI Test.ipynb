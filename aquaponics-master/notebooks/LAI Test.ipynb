{
 "cells": [
  {
   "cell_type": "code",
   "execution_count": 1,
   "metadata": {},
   "outputs": [],
   "source": [
    "import numpy as np\n",
    "import matplotlib.pyplot as plt"
   ]
  },
  {
   "cell_type": "code",
   "execution_count": 10,
   "metadata": {},
   "outputs": [
    {
     "data": {
      "text/plain": [
       "[<matplotlib.lines.Line2D at 0x283e0a3c198>]"
      ]
     },
     "execution_count": 10,
     "metadata": {},
     "output_type": "execute_result"
    },
    {
     "data": {
      "image/png": "[encoded data removed]",
      "text/plain": [
       "<Figure size 432x288 with 1 Axes>"
      ]
     },
     "metadata": {},
     "output_type": "display_data"
    }
   ],
   "source": [
    "%matplotlib inline\n",
    "\n",
    "def _LAI(w):\n",
    "    if w < 2.4:\n",
    "        return -0.125 * 2.4 + 3.6\n",
    "    else:\n",
    "        return -0.0516 * w ** 2 + 1.49 * w\n",
    "\n",
    "ws = np.arange(0, 10, 0.1)\n",
    "LAI = [_LAI(w) for w in ws]\n",
    "\n",
    "plt.plot(ws, LAI)"
   ]
  },
  {
   "cell_type": "code",
   "execution_count": 7,
   "metadata": {},
   "outputs": [
    {
     "name": "stdout",
     "output_type": "stream",
     "text": [
      "[0, 0, 0, 0, 0, 0, 0, 0, 0, 0, 0, 0, 0, 0, 0, 0, 0, 0, 0, 0, 0, 0, 0, 0, 3.2787840000000004, 3.4025, 3.5251840000000003, 3.6468360000000004, 3.7674560000000006, 3.8870440000000004, 4.005599999999999, 4.123124, 4.239616, 4.355076, 4.469504000000001, 4.5828999999999995, 4.695264, 4.806596, 4.9168959999999995, 5.0261640000000005, 5.1344, 5.241604000000001, 5.347776, 5.452916, 5.557024, 5.6601, 5.762144000000001, 5.863156, 5.963136, 6.062084, 6.16, 6.256884000000001, 6.352736, 6.4475560000000005, 6.5413440000000005, 6.6341, 6.725824000000001, 6.816516, 6.906176, 6.994804, 7.0824, 7.168964, 7.254496, 7.338996, 7.422464, 7.504900000000001, 7.586304000000001, 7.666676000000001, 7.746016000000001, 7.824324000000001, 7.9016, 7.977844, 8.053056, 8.127236, 8.200384, 8.2725, 8.343584, 8.413636, 8.482656000000002, 8.550644, 8.6176, 8.683523999999998, 8.748416, 8.812276, 8.875104, 8.9369, 8.997664, 9.057396, 9.116095999999999, 9.173764, 9.2304, 9.286004, 9.340576000000002, 9.394116, 9.446624, 9.498099999999999, 9.548544, 9.597956, 9.646335999999998, 9.693684000000001]\n"
     ]
    }
   ],
   "source": [
    "print(LAI)"
   ]
  },
  {
   "cell_type": "code",
   "execution_count": 4,
   "metadata": {},
   "outputs": [
    {
     "data": {
      "text/plain": [
       "114451"
      ]
     },
     "execution_count": 4,
     "metadata": {},
     "output_type": "execute_result"
    }
   ],
   "source": [
    "import numpy as np\n",
    "np.random.randint(1000000)"
   ]
  },
  {
   "cell_type": "code",
   "execution_count": null,
   "metadata": {},
   "outputs": [],
   "source": []
  }
 ],
 "metadata": {
  "kernelspec": {
   "display_name": "Python 3",
   "language": "python",
   "name": "python3"
  },
  "language_info": {
   "codemirror_mode": {
    "name": "ipython",
    "version": 3
   },
   "file_extension": ".py",
   "mimetype": "text/x-python",
   "name": "python",
   "nbconvert_exporter": "python",
   "pygments_lexer": "ipython3",
   "version": "3.9.3"
  }
 },
 "nbformat": 4,
 "nbformat_minor": 2
}
