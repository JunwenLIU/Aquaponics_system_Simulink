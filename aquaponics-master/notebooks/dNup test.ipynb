{
 "cells": [
  {
   "cell_type": "code",
   "execution_count": 1,
   "metadata": {},
   "outputs": [],
   "source": [
    "import numpy as np\n",
    "import matplotlib.pyplot as plt"
   ]
  },
  {
   "cell_type": "code",
   "execution_count": 19,
   "metadata": {},
   "outputs": [],
   "source": [
    "def _fNup(nup_w):\n",
    "    if nup_w < 0.02:\n",
    "        return 0\n",
    "    elif nup_w > 0.05:\n",
    "        return 1\n",
    "    else:\n",
    "        return (1 / 3) * (nup_w - 0.02) * 100\n",
    "    \n",
    "def _fNup_approx(nup_w, k):\n",
    "    return 1 / (1 + np.exp(-k * (nup_w - 0.035)))"
   ]
  },
  {
   "cell_type": "code",
   "execution_count": 27,
   "metadata": {},
   "outputs": [
    {
     "data": {
      "text/plain": [
       "[<matplotlib.lines.Line2D at 0x7fcfc7a36cc0>]"
      ]
     },
     "execution_count": 27,
     "metadata": {},
     "output_type": "execute_result"
    },
    {
     "data": {
      "image/png": "[encoded data removed]",
      "text/plain": [
       "<Figure size 432x288 with 1 Axes>"
      ]
     },
     "metadata": {},
     "output_type": "display_data"
    }
   ],
   "source": [
    "k = 150\n",
    "\n",
    "nup_ws = np.arange(0, 0.1, 0.001)\n",
    "fNup = [_fNup(nup_w) for nup_w in nup_ws]\n",
    "fNup_approx = [_fNup_approx(nup_w, k) for nup_w in nup_ws]\n",
    "\n",
    "plt.figure()\n",
    "plt.plot(nup_ws, fNup)\n",
    "plt.plot(nup_ws, fNup_approx)"
   ]
  },
  {
   "cell_type": "code",
   "execution_count": 17,
   "metadata": {},
   "outputs": [
    {
     "data": {
      "text/plain": [
       "0.035"
      ]
     },
     "execution_count": 17,
     "metadata": {},
     "output_type": "execute_result"
    }
   ],
   "source": [
    "(0.05 - 0.02) / 2 + 0.02"
   ]
  },
  {
   "cell_type": "code",
   "execution_count": null,
   "metadata": {},
   "outputs": [],
   "source": []
  }
 ],
 "metadata": {
  "kernelspec": {
   "display_name": "Python 3",
   "language": "python",
   "name": "python3"
  },
  "language_info": {
   "codemirror_mode": {
    "name": "ipython",
    "version": 3
   },
   "file_extension": ".py",
   "mimetype": "text/x-python",
   "name": "python",
   "nbconvert_exporter": "python",
   "pygments_lexer": "ipython3",
   "version": "3.5.2"
  }
 },
 "nbformat": 4,
 "nbformat_minor": 2
}
