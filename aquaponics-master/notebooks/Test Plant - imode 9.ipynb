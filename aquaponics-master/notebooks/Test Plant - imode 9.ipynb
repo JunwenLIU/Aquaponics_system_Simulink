{
 "cells": [
  {
   "cell_type": "markdown",
   "metadata": {},
   "source": [
    "# Test Plant #\n",
    "\n",
    "Mostly to make sure everything is connected"
   ]
  },
  {
   "cell_type": "code",
   "execution_count": 1,
   "metadata": {},
   "outputs": [],
   "source": [
    "import numpy as np\n",
    "import matplotlib.pyplot as plt\n",
    "from time import time\n",
    "\n",
    "from aquaponics import Aquaponics\n",
    "imode = 9"
   ]
  },
  {
   "cell_type": "markdown",
   "metadata": {},
   "source": [
    "## 1 bed 1 plant - no nitrogen ##"
   ]
  },
  {
   "cell_type": "code",
   "execution_count": 2,
   "metadata": {},
   "outputs": [],
   "source": [
    "a = Aquaponics('plant', kswitch=100)\n",
    "m = a.get_model()\n",
    "\n",
    "tf = 45\n",
    "steps = tf * 10 + 1\n",
    "m.time = np.linspace(0,tf,steps)\n",
    "\n",
    "a.solve(glamdring=True, imode=imode, disp=False)"
   ]
  },
  {
   "cell_type": "code",
   "execution_count": 3,
   "metadata": {},
   "outputs": [
    {
     "data": {
      "text/plain": [
       "Text(0.5,0,'Time (days)')"
      ]
     },
     "execution_count": 3,
     "metadata": {},
     "output_type": "execute_result"
    },
    {
     "data": {
      "image/png": "[encoded data removed]",
      "text/plain": [
       "<Figure size 864x432 with 2 Axes>"
      ]
     },
     "metadata": {},
     "output_type": "display_data"
    }
   ],
   "source": [
    "%matplotlib inline\n",
    "plt.figure(figsize=(12,6))\n",
    "ax = plt.subplot(211)\n",
    "plt.plot(m.time, a.w, label='Dry Weight')\n",
    "plt.plot(m.time, a.y, label='Yield')\n",
    "plt.grid()\n",
    "plt.legend()\n",
    "\n",
    "ax = plt.subplot(212, sharex=ax)\n",
    "plt.plot(m.time, a.dNup, label='dNup')\n",
    "plt.grid()\n",
    "plt.legend()\n",
    "\n",
    "plt.xlim(0, tf)\n",
    "plt.xlabel('Time (days)')"
   ]
  },
  {
   "cell_type": "markdown",
   "metadata": {},
   "source": [
    "## Test 1 Bed 1 Plant - Nitrogen ##"
   ]
  },
  {
   "cell_type": "code",
   "execution_count": 5,
   "metadata": {
    "scrolled": true
   },
   "outputs": [
    {
     "name": "stdout",
     "output_type": "stream",
     "text": [
      "apmonitor 192.168.17.25_1865541805204 <br><pre> ----------------------------------------------------------------\n",
      " APMonitor, Version 0.8.2\n",
      " APMonitor Optimization Suite\n",
      " ----------------------------------------------------------------\n",
      " \n",
      " \n",
      " --------- APM Model Size ------------\n",
      " Each time step contains\n",
      "   Objects      :            0\n",
      "   Constants    :            0\n",
      "   Variables    :           24\n",
      "   Intermediates:           11\n",
      "   Connections  :            0\n",
      "   Equations    :           19\n",
      "   Residuals    :            8\n",
      " \n",
      " Number of state variables:          25920\n",
      " Number of total equations: -        25920\n",
      " Number of slack variables: -            0\n",
      " ---------------------------------------\n",
      " Degrees of freedom       :              0\n",
      " \n",
      " Sequential solve ON but there are no degrees of freedom\n",
      " Switching back to simultaneous solve\n",
      " ----------------------------------------------\n",
      " Sequential Control with APOPT Solver\n",
      " ----------------------------------------------\n",
      " Unknown option: linear_solver\n",
      "Could not retrieve results.json from server\n",
      "Could not retrieve options.json from server\n",
      "Could not retrieve results.csv from server\n",
      "p1 not found in results file\n",
      "p2 not found in results file\n",
      "p3 not found in results file\n",
      "p4 not found in results file\n",
      "v1 not found in results file\n",
      "v2 not found in results file\n",
      "v3 not found in results file\n",
      "v4 not found in results file\n",
      "v5 not found in results file\n",
      "v6 not found in results file\n",
      "v7 not found in results file\n",
      "v8 not found in results file\n"
     ]
    },
    {
     "ename": "TypeError",
     "evalue": "list indices must be integers or slices, not str",
     "output_type": "error",
     "traceback": [
      "\u001b[0;31m---------------------------------------------------------------------------\u001b[0m",
      "\u001b[0;31mTypeError\u001b[0m                                 Traceback (most recent call last)",
      "\u001b[0;32m<ipython-input-5-c08a40ef0537>\u001b[0m in \u001b[0;36m<module>\u001b[0;34m()\u001b[0m\n\u001b[1;32m      8\u001b[0m \u001b[0;34m\u001b[0m\u001b[0m\n\u001b[1;32m      9\u001b[0m \u001b[0mstart\u001b[0m \u001b[0;34m=\u001b[0m \u001b[0mtime\u001b[0m\u001b[0;34m(\u001b[0m\u001b[0;34m)\u001b[0m\u001b[0;34m\u001b[0m\u001b[0m\n\u001b[0;32m---> 10\u001b[0;31m \u001b[0ma\u001b[0m\u001b[0;34m.\u001b[0m\u001b[0msolve\u001b[0m\u001b[0;34m(\u001b[0m\u001b[0mglamdring\u001b[0m\u001b[0;34m=\u001b[0m\u001b[0;32mTrue\u001b[0m\u001b[0;34m,\u001b[0m \u001b[0mimode\u001b[0m\u001b[0;34m=\u001b[0m\u001b[0mimode\u001b[0m\u001b[0;34m,\u001b[0m \u001b[0mdisp\u001b[0m\u001b[0;34m=\u001b[0m\u001b[0;32mTrue\u001b[0m\u001b[0;34m)\u001b[0m\u001b[0;34m\u001b[0m\u001b[0m\n\u001b[0m\u001b[1;32m     11\u001b[0m \u001b[0mprint\u001b[0m\u001b[0;34m(\u001b[0m\u001b[0;34m'Solved in {:.2f} Seconds'\u001b[0m\u001b[0;34m.\u001b[0m\u001b[0mformat\u001b[0m\u001b[0;34m(\u001b[0m\u001b[0mtime\u001b[0m\u001b[0;34m(\u001b[0m\u001b[0;34m)\u001b[0m \u001b[0;34m-\u001b[0m \u001b[0mstart\u001b[0m\u001b[0;34m)\u001b[0m\u001b[0;34m)\u001b[0m\u001b[0;34m\u001b[0m\u001b[0m\n",
      "\u001b[0;32m~/Development/aquaponics/aquaponics/Aquaponics.py\u001b[0m in \u001b[0;36msolve\u001b[0;34m(self, glamdring, imode, solver, **kwargs)\u001b[0m\n\u001b[1;32m    214\u001b[0m             \u001b[0mm\u001b[0m\u001b[0;34m.\u001b[0m\u001b[0moptions\u001b[0m\u001b[0;34m.\u001b[0m\u001b[0msolver\u001b[0m \u001b[0;34m=\u001b[0m \u001b[0msolver\u001b[0m\u001b[0;34m\u001b[0m\u001b[0m\n\u001b[1;32m    215\u001b[0m \u001b[0;34m\u001b[0m\u001b[0m\n\u001b[0;32m--> 216\u001b[0;31m             \u001b[0mm\u001b[0m\u001b[0;34m.\u001b[0m\u001b[0msolve\u001b[0m\u001b[0;34m(\u001b[0m\u001b[0;34m**\u001b[0m\u001b[0mkwargs\u001b[0m\u001b[0;34m)\u001b[0m\u001b[0;34m\u001b[0m\u001b[0m\n\u001b[0m",
      "\u001b[0;32m~/.virtualenvs/aquaponics/lib/python3.5/site-packages/gekko-0.0.4b1-py3.5.egg/gekko/gekko.py\u001b[0m in \u001b[0;36msolve\u001b[0;34m(self, remote, disp, debug)\u001b[0m\n\u001b[1;32m    512\u001b[0m         \u001b[0;32mif\u001b[0m \u001b[0mtiming\u001b[0m \u001b[0;34m==\u001b[0m \u001b[0;32mTrue\u001b[0m\u001b[0;34m:\u001b[0m\u001b[0;34m\u001b[0m\u001b[0m\n\u001b[1;32m    513\u001b[0m             \u001b[0mt\u001b[0m \u001b[0;34m=\u001b[0m \u001b[0mtime\u001b[0m\u001b[0;34m.\u001b[0m\u001b[0mtime\u001b[0m\u001b[0;34m(\u001b[0m\u001b[0;34m)\u001b[0m\u001b[0;34m\u001b[0m\u001b[0m\n\u001b[0;32m--> 514\u001b[0;31m         \u001b[0mself\u001b[0m\u001b[0;34m.\u001b[0m\u001b[0mload_JSON\u001b[0m\u001b[0;34m(\u001b[0m\u001b[0;34m)\u001b[0m\u001b[0;34m\u001b[0m\u001b[0m\n\u001b[0m\u001b[1;32m    515\u001b[0m         \u001b[0;32mif\u001b[0m \u001b[0mtiming\u001b[0m \u001b[0;34m==\u001b[0m \u001b[0;32mTrue\u001b[0m\u001b[0;34m:\u001b[0m\u001b[0;34m\u001b[0m\u001b[0m\n\u001b[1;32m    516\u001b[0m             \u001b[0mprint\u001b[0m\u001b[0;34m(\u001b[0m\u001b[0;34m'load JSON'\u001b[0m\u001b[0;34m,\u001b[0m \u001b[0mtime\u001b[0m\u001b[0;34m.\u001b[0m\u001b[0mtime\u001b[0m\u001b[0;34m(\u001b[0m\u001b[0;34m)\u001b[0m \u001b[0;34m-\u001b[0m \u001b[0mt\u001b[0m\u001b[0;34m)\u001b[0m\u001b[0;34m\u001b[0m\u001b[0m\n",
      "\u001b[0;32m~/.virtualenvs/aquaponics/lib/python3.5/site-packages/gekko-0.0.4b1-py3.5.egg/gekko/gk_post_solve.py\u001b[0m in \u001b[0;36mload_JSON\u001b[0;34m(self)\u001b[0m\n\u001b[1;32m     15\u001b[0m     \u001b[0;31m#global (APM) options\u001b[0m\u001b[0;34m\u001b[0m\u001b[0;34m\u001b[0m\u001b[0m\n\u001b[1;32m     16\u001b[0m     \u001b[0;32mfor\u001b[0m \u001b[0mo\u001b[0m \u001b[0;32min\u001b[0m \u001b[0mself\u001b[0m\u001b[0;34m.\u001b[0m\u001b[0moptions\u001b[0m\u001b[0;34m.\u001b[0m\u001b[0m_output_option_list\u001b[0m\u001b[0;34m+\u001b[0m\u001b[0mself\u001b[0m\u001b[0;34m.\u001b[0m\u001b[0moptions\u001b[0m\u001b[0;34m.\u001b[0m\u001b[0m_inout_option_list\u001b[0m\u001b[0;34m:\u001b[0m\u001b[0;34m\u001b[0m\u001b[0m\n\u001b[0;32m---> 17\u001b[0;31m         \u001b[0mself\u001b[0m\u001b[0;34m.\u001b[0m\u001b[0moptions\u001b[0m\u001b[0;34m.\u001b[0m\u001b[0m__dict__\u001b[0m\u001b[0;34m[\u001b[0m\u001b[0mo\u001b[0m\u001b[0;34m]\u001b[0m \u001b[0;34m=\u001b[0m \u001b[0mdata\u001b[0m\u001b[0;34m[\u001b[0m\u001b[0;34m'APM'\u001b[0m\u001b[0;34m]\u001b[0m\u001b[0;34m[\u001b[0m\u001b[0mo\u001b[0m\u001b[0;34m]\u001b[0m\u001b[0;34m\u001b[0m\u001b[0m\n\u001b[0m\u001b[1;32m     18\u001b[0m     \u001b[0;31m#Variable options (FV/MV/SV/CV)\u001b[0m\u001b[0;34m\u001b[0m\u001b[0;34m\u001b[0m\u001b[0m\n\u001b[1;32m     19\u001b[0m     \u001b[0;32mfor\u001b[0m \u001b[0mvp\u001b[0m \u001b[0;32min\u001b[0m \u001b[0mself\u001b[0m\u001b[0;34m.\u001b[0m\u001b[0mparameters\u001b[0m\u001b[0;34m:\u001b[0m\u001b[0;34m\u001b[0m\u001b[0m\n",
      "\u001b[0;31mTypeError\u001b[0m: list indices must be integers or slices, not str"
     ]
    }
   ],
   "source": [
    "a = Aquaponics('plant', N0=.1, kswitch=100)\n",
    "m = a.get_model()\n",
    "\n",
    "tf = 90\n",
    "steps = tf * 12 + 1\n",
    "m.time = np.linspace(0,tf,steps)\n",
    "m.options.solver = 1\n",
    "\n",
    "start = time()\n",
    "a.solve(glamdring=True, imode=imode, disp=True)\n",
    "print('Solved in {:.2f} Seconds'.format(time() - start))"
   ]
  },
  {
   "cell_type": "code",
   "execution_count": null,
   "metadata": {},
   "outputs": [],
   "source": [
    "%matplotlib inline\n",
    "plt.figure(figsize=(12,6))\n",
    "ax = plt.subplot(211)\n",
    "plt.plot(m.time, a.w, label='Dry Weight')\n",
    "plt.plot(m.time, a.y, label='Yield')\n",
    "plt.grid()\n",
    "plt.legend()\n",
    "\n",
    "ax = plt.subplot(212, sharex=ax)\n",
    "plt.plot(m.time, a.dNup, label='dNup')\n",
    "plt.grid()\n",
    "plt.legend()\n",
    "\n",
    "plt.xlim(0, tf)\n",
    "plt.xlabel('Time (days)')"
   ]
  },
  {
   "cell_type": "markdown",
   "metadata": {},
   "source": [
    "## Test 1 Bed, 30 plants - Nitrogen ##"
   ]
  },
  {
   "cell_type": "code",
   "execution_count": null,
   "metadata": {},
   "outputs": [],
   "source": [
    "a = Aquaponics('plant', N0=.1, ppb0=30, kswitch=100)\n",
    "m = a.get_model()\n",
    "\n",
    "tf = 90\n",
    "steps = tf * 12 + 1\n",
    "m.time = np.linspace(0,tf,steps)\n",
    "\n",
    "start = time()\n",
    "a.solve(glamdring=True, imode=imode, disp=False)\n",
    "print('Solved in {:.2f} Seconds'.format(time() - start))"
   ]
  },
  {
   "cell_type": "code",
   "execution_count": null,
   "metadata": {},
   "outputs": [],
   "source": [
    "%matplotlib inline\n",
    "plt.figure(figsize=(12,6))\n",
    "ax = plt.subplot(211)\n",
    "plt.plot(m.time, a.w, label='Dry Weight')\n",
    "plt.plot(m.time, a.y, label='Yield')\n",
    "plt.grid()\n",
    "plt.legend()\n",
    "\n",
    "ax = plt.subplot(212, sharex=ax)\n",
    "plt.plot(m.time, a.dNup, label='dNup')\n",
    "plt.grid()\n",
    "plt.legend()\n",
    "\n",
    "plt.xlim(0, tf)\n",
    "plt.xlabel('Time (days)')"
   ]
  },
  {
   "cell_type": "markdown",
   "metadata": {},
   "source": [
    "## Test 1 Bed, 30 plants - Nitrogen - Staggered Start##"
   ]
  },
  {
   "cell_type": "code",
   "execution_count": null,
   "metadata": {},
   "outputs": [],
   "source": [
    "a = Aquaponics('plant', N0=.1, ppb0=30, beds=[(30, 60)], kswitch=100)\n",
    "m = a.get_model()\n",
    "\n",
    "tf = 90\n",
    "steps = tf * 12 + 1\n",
    "m.time = np.linspace(0,tf,steps)\n",
    "\n",
    "start = time()\n",
    "a.solve(glamdring=True, imode=imode, disp=False)\n",
    "print('Solved in {:.2f} Seconds'.format(time() - start))"
   ]
  },
  {
   "cell_type": "code",
   "execution_count": null,
   "metadata": {},
   "outputs": [],
   "source": [
    "%matplotlib inline\n",
    "plt.figure(figsize=(12,6))\n",
    "ax = plt.subplot(211)\n",
    "plt.plot(m.time, a.w, label='Dry Weight')\n",
    "plt.plot(m.time, a.y, label='Yield')\n",
    "plt.grid()\n",
    "plt.legend()\n",
    "\n",
    "ax = plt.subplot(212, sharex=ax)\n",
    "plt.plot(m.time, a.dNup, label='dNup')\n",
    "plt.grid()\n",
    "plt.legend()\n",
    "\n",
    "plt.xlim(0, tf)\n",
    "plt.xlabel('Time (days)')"
   ]
  },
  {
   "cell_type": "markdown",
   "metadata": {},
   "source": [
    "## Test 3 Beds, 30 plants - Nitrogen - Staggered Starts##"
   ]
  },
  {
   "cell_type": "code",
   "execution_count": null,
   "metadata": {},
   "outputs": [],
   "source": [
    "a = Aquaponics('plant', N0=.1, ppb0=30, beds=[(0,30), (30, 60), (60, 90)], kswitch=100)\n",
    "m = a.get_model()\n",
    "\n",
    "tf = 90\n",
    "steps = tf * 12 + 1\n",
    "m.time = np.linspace(0,tf,steps)\n",
    "\n",
    "start = time()\n",
    "a.solve(glamdring=True, imode=imode, disp=False)\n",
    "print('Solved in {:.2f} Seconds'.format(time() - start))"
   ]
  },
  {
   "cell_type": "code",
   "execution_count": null,
   "metadata": {},
   "outputs": [],
   "source": [
    "%matplotlib inline\n",
    "plt.figure(figsize=(12,6))\n",
    "ax = plt.subplot(211)\n",
    "plt.plot(m.time, a.w, label='Dry Weight')\n",
    "plt.plot(m.time, a.y, label='Yield')\n",
    "plt.grid()\n",
    "plt.legend()\n",
    "\n",
    "ax = plt.subplot(212, sharex=ax)\n",
    "plt.plot(m.time, a.dNup, label='dNup')\n",
    "plt.grid()\n",
    "plt.legend()\n",
    "\n",
    "plt.xlim(0, tf)\n",
    "plt.xlabel('Time (days)')"
   ]
  },
  {
   "cell_type": "code",
   "execution_count": null,
   "metadata": {},
   "outputs": [],
   "source": [
    "a = Aquaponics('plant', N0=.1, ppb0=30, beds=[(30,60), (60, 90), (90, 120)], kswitch=100)\n",
    "m = a.get_model()\n",
    "\n",
    "tf = 150\n",
    "steps = tf * 12 + 1\n",
    "m.time = np.linspace(0,tf,steps)\n",
    "\n",
    "start = time()\n",
    "a.solve(glamdring=True, imode=imode, disp=False)\n",
    "print('Solved in {:.2f} Seconds'.format(time() - start))"
   ]
  },
  {
   "cell_type": "code",
   "execution_count": null,
   "metadata": {},
   "outputs": [],
   "source": [
    "%matplotlib inline\n",
    "plt.figure(figsize=(12,6))\n",
    "ax = plt.subplot(211)\n",
    "plt.plot(m.time, a.w, label='Dry Weight')\n",
    "plt.plot(m.time, a.y, label='Yield')\n",
    "plt.grid()\n",
    "plt.legend()\n",
    "\n",
    "ax = plt.subplot(212, sharex=ax)\n",
    "plt.plot(m.time, a.dNup, label='dNup')\n",
    "plt.grid()\n",
    "plt.legend()\n",
    "\n",
    "plt.xlim(0, tf)\n",
    "plt.xlabel('Time (days)')"
   ]
  },
  {
   "cell_type": "code",
   "execution_count": null,
   "metadata": {},
   "outputs": [],
   "source": []
  }
 ],
 "metadata": {
  "kernelspec": {
   "display_name": "Python 3",
   "language": "python",
   "name": "python3"
  },
  "language_info": {
   "codemirror_mode": {
    "name": "ipython",
    "version": 3
   },
   "file_extension": ".py",
   "mimetype": "text/x-python",
   "name": "python",
   "nbconvert_exporter": "python",
   "pygments_lexer": "ipython3",
   "version": "3.5.2"
  }
 },
 "nbformat": 4,
 "nbformat_minor": 2
}
