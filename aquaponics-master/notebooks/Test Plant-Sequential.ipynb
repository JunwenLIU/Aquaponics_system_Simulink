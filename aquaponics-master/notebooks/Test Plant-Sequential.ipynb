{
 "cells": [
  {
   "cell_type": "markdown",
   "metadata": {},
   "source": [
    "# Test Plant #\n",
    "\n",
    "Mostly to make sure everything is connected"
   ]
  },
  {
   "cell_type": "code",
   "execution_count": 4,
   "metadata": {},
   "outputs": [],
   "source": [
    "import numpy as np\n",
    "import matplotlib.pyplot as plt\n",
    "\n",
    "from aquaponics import Aquaponics"
   ]
  },
  {
   "cell_type": "markdown",
   "metadata": {},
   "source": [
    "## 1 bed - no nitrogen ##"
   ]
  },
  {
   "cell_type": "code",
   "execution_count": 5,
   "metadata": {},
   "outputs": [],
   "source": [
    "a = Aquaponics('plant', server='http://xps.apmonitor.com', kswitch=100)\n",
    "m = a.get_model()\n",
    "\n",
    "tf = 45\n",
    "steps = tf * 10 + 1\n",
    "m.time = np.linspace(0,tf,steps)\n",
    "m.options.IMODE = 7\n",
    "\n",
    "for var in m.variables:\n",
    "    if hasattr(var, 'FSTATUS'):\n",
    "        var.FSTATUS = 1\n",
    "    var.value.change = False\n",
    "\n",
    "# a.solve(glamdring=False, disp=False)\n",
    "# m.server = \n",
    "m.options.CSV_READ = 1\n",
    "m.solve(disp=False)"
   ]
  },
  {
   "cell_type": "code",
   "execution_count": 6,
   "metadata": {},
   "outputs": [
    {
     "data": {
      "text/plain": [
       "Text(0.5,0,'Time (days)')"
      ]
     },
     "execution_count": 6,
     "metadata": {},
     "output_type": "execute_result"
    },
    {
     "data": {
      "image/png": "[encoded data removed]",
      "text/plain": [
       "<Figure size 864x432 with 2 Axes>"
      ]
     },
     "metadata": {},
     "output_type": "display_data"
    }
   ],
   "source": [
    "%matplotlib inline\n",
    "plt.figure(figsize=(12,6))\n",
    "ax = plt.subplot(211)\n",
    "plt.plot(m.time, a.w, label='Dry Weight')\n",
    "plt.plot(m.time, a.y, label='Yield')\n",
    "plt.grid()\n",
    "plt.legend()\n",
    "\n",
    "ax = plt.subplot(212, sharex=ax)\n",
    "plt.plot(m.time, a.dNup, label='dNup')\n",
    "plt.grid()\n",
    "plt.legend()\n",
    "\n",
    "plt.xlim(0, tf)\n",
    "plt.xlabel('Time (days)')"
   ]
  },
  {
   "cell_type": "markdown",
   "metadata": {},
   "source": [
    "## Test 1 Bed - Nitrogen ##"
   ]
  },
  {
   "cell_type": "code",
   "execution_count": null,
   "metadata": {},
   "outputs": [],
   "source": [
    "a = Aquaponics('plant', server='http://xps.apmonitor.com', N0=.1, kswitch=100)\n",
    "m = a.get_model()\n",
    "\n",
    "tf = 90\n",
    "steps = tf * 12 + 1\n",
    "m.time = np.linspace(0,tf,steps)\n",
    "m.options.IMODE = 7\n",
    "# m.options.MAX_ITER = 1000\n",
    "\n",
    "# a.solve(glamdring=False)\n",
    "m.solve()"
   ]
  },
  {
   "cell_type": "code",
   "execution_count": null,
   "metadata": {},
   "outputs": [],
   "source": [
    "%matplotlib inline\n",
    "plt.figure(figsize=(12,6))\n",
    "ax = plt.subplot(211)\n",
    "plt.plot(m.time, a.w, label='Dry Weight')\n",
    "plt.plot(m.time, a.y, label='Yield')\n",
    "plt.grid()\n",
    "plt.legend()\n",
    "\n",
    "ax = plt.subplot(212, sharex=ax)\n",
    "plt.plot(m.time, a.dNup, label='dNup')\n",
    "plt.grid()\n",
    "plt.legend()\n",
    "\n",
    "plt.xlim(0, tf)\n",
    "plt.xlabel('Time (days)')"
   ]
  },
  {
   "cell_type": "code",
   "execution_count": null,
   "metadata": {},
   "outputs": [],
   "source": [
    "# print(m.wS.value[0:10])\n",
    "# print('---')\n",
    "# print(m.dWS.value[0:10])\n",
    "# print('---')\n",
    "# print(m.wG.value[0:10])\n",
    "# print('---')\n",
    "# print(m.dWG.value[0:10])\n",
    "# print('---')\n",
    "# print(m.w.value[0:10])\n",
    "# print('---')\n",
    "# print(a.dNup.value[0:10])"
   ]
  },
  {
   "cell_type": "code",
   "execution_count": null,
   "metadata": {
    "scrolled": false
   },
   "outputs": [],
   "source": [
    "# for var in m.variables:\n",
    "#     var.value.change = True\n",
    "# for par in m.parameters:\n",
    "#     par.value.change = True"
   ]
  },
  {
   "cell_type": "code",
   "execution_count": null,
   "metadata": {},
   "outputs": [],
   "source": [
    "# class A:\n",
    "    \n",
    "#     __private_var = 1\n",
    "    \n",
    "#     def __private(self):\n",
    "#         print('reached')\n",
    "        \n",
    "#     def public(self):\n",
    "#         print(self.__private_var)\n",
    "#         print(self.__private())\n",
    "        \n",
    "# a = A()\n",
    "# print(a.public())\n",
    "# a.__private()"
   ]
  },
  {
   "cell_type": "code",
   "execution_count": null,
   "metadata": {},
   "outputs": [],
   "source": [
    "# print(a.__private_var)"
   ]
  },
  {
   "cell_type": "code",
   "execution_count": null,
   "metadata": {},
   "outputs": [],
   "source": []
  }
 ],
 "metadata": {
  "kernelspec": {
   "display_name": "Python 3",
   "language": "python",
   "name": "python3"
  },
  "language_info": {
   "codemirror_mode": {
    "name": "ipython",
    "version": 3
   },
   "file_extension": ".py",
   "mimetype": "text/x-python",
   "name": "python",
   "nbconvert_exporter": "python",
   "pygments_lexer": "ipython3",
   "version": "3.5.2"
  }
 },
 "nbformat": 4,
 "nbformat_minor": 2
}
