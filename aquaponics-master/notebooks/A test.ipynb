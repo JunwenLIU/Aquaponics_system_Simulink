{
 "cells": [
  {
   "cell_type": "code",
   "execution_count": 3,
   "metadata": {},
   "outputs": [],
   "source": [
    "import numpy as np\n",
    "import matplotlib.pyplot as plt"
   ]
  },
  {
   "cell_type": "code",
   "execution_count": 6,
   "metadata": {},
   "outputs": [],
   "source": [
    "def _A(w):\n",
    "    if w <= 2.4:\n",
    "        return 0.02 * w\n",
    "    else:\n",
    "        return 0.0484\n",
    "    \n",
    "def _A_approx(w, k):\n",
    "    sigma = 1 / (1 + np.exp(-k * (w - 2.4)))\n",
    "    return (1 - sigma) * 0.02 * w + sigma * 0.0484"
   ]
  },
  {
   "cell_type": "code",
   "execution_count": 10,
   "metadata": {},
   "outputs": [
    {
     "data": {
      "text/plain": [
       "[<matplotlib.lines.Line2D at 0x7f9c63aad198>]"
      ]
     },
     "execution_count": 10,
     "metadata": {},
     "output_type": "execute_result"
    },
    {
     "data": {
      "image/png": "[encoded data removed]",
      "text/plain": [
       "<Figure size 432x288 with 1 Axes>"
      ]
     },
     "metadata": {},
     "output_type": "display_data"
    }
   ],
   "source": [
    "k = 20\n",
    "\n",
    "ws = np.arange(0, 4, 0.001)\n",
    "A = [_A(w) for w in ws]\n",
    "A_approx = [_A_approx(w, k) for w in ws]\n",
    "\n",
    "plt.figure()\n",
    "plt.plot(ws, A)\n",
    "plt.plot(ws, A_approx)"
   ]
  },
  {
   "cell_type": "code",
   "execution_count": null,
   "metadata": {},
   "outputs": [],
   "source": []
  }
 ],
 "metadata": {
  "kernelspec": {
   "display_name": "Python 3",
   "language": "python",
   "name": "python3"
  },
  "language_info": {
   "codemirror_mode": {
    "name": "ipython",
    "version": 3
   },
   "file_extension": ".py",
   "mimetype": "text/x-python",
   "name": "python",
   "nbconvert_exporter": "python",
   "pygments_lexer": "ipython3",
   "version": "3.5.2"
  }
 },
 "nbformat": 4,
 "nbformat_minor": 2
}
